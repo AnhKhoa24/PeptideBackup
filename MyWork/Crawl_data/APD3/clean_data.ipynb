{
 "cells": [
  {
   "cell_type": "code",
   "execution_count": 1,
   "id": "5e02fa5f",
   "metadata": {},
   "outputs": [
    {
     "data": {
      "text/plain": [
       "'data/clean_AMP.fasta'"
      ]
     },
     "execution_count": 1,
     "metadata": {},
     "output_type": "execute_result"
    }
   ],
   "source": [
    "fasta_path = 'data/bacteriaAMPs_APD2024.fasta'\n",
    "\n",
    "with open(fasta_path, 'r') as f:\n",
    "    lines = f.readlines()\n",
    "\n",
    "output_lines = []\n",
    "current_header = \"\"\n",
    "current_seq = \"\"\n",
    "\n",
    "for line in lines:\n",
    "    line = line.strip()\n",
    "    if line.startswith(\">\"):\n",
    "        if current_header and current_seq:\n",
    "            output_lines.append(f\">{current_header} AMP\\n{current_seq}\")\n",
    "        current_header = line[1:].split()[0]  \n",
    "        current_seq = \"\"\n",
    "    else:\n",
    "        current_seq += line\n",
    "\n",
    "if current_header and current_seq:\n",
    "    output_lines.append(f\">{current_header} AMP\\n{current_seq}\")\n",
    "\n",
    "output_fasta_path = 'data/clean_AMP.fasta'\n",
    "with open(output_fasta_path, 'w') as f:\n",
    "    f.write(\"\\n\".join(output_lines))\n",
    "\n",
    "output_fasta_path\n"
   ]
  }
 ],
 "metadata": {
  "kernelspec": {
   "display_name": "Python 3",
   "language": "python",
   "name": "python3"
  },
  "language_info": {
   "codemirror_mode": {
    "name": "ipython",
    "version": 3
   },
   "file_extension": ".py",
   "mimetype": "text/x-python",
   "name": "python",
   "nbconvert_exporter": "python",
   "pygments_lexer": "ipython3",
   "version": "3.12.7"
  }
 },
 "nbformat": 4,
 "nbformat_minor": 5
}
