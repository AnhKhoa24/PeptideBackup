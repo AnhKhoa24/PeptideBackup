{
 "cells": [
  {
   "cell_type": "code",
   "execution_count": 1,
   "id": "8d4f7f64",
   "metadata": {},
   "outputs": [
    {
     "data": {
      "text/plain": [
       "'D:\\\\PEPTIDE_PROJECT_OFF\\\\MyWork\\\\Crawl_data\\\\Final\\\\final2.fasta'"
      ]
     },
     "execution_count": 1,
     "metadata": {},
     "output_type": "execute_result"
    }
   ],
   "source": [
    "\n",
    "# Đọc nội dung 2 file\n",
    "with open(r\"D:\\PEPTIDE_PROJECT_OFF\\MyWork\\Crawl_data\\Final\\final.fasta\") as f1:\n",
    "    fasta1 = f1.read().strip()\n",
    "\n",
    "with open(r\"D:\\PEPTIDE_PROJECT_OFF\\MyWork\\Crawl_data\\UniProt\\data\\nAMP_10k.fasta\") as f2:\n",
    "    fasta2 = f2.read().strip()\n",
    "\n",
    "# Ghép lại\n",
    "combined_fasta = fasta1 + '\\n' + fasta2\n",
    "\n",
    "# Ghi ra file mới\n",
    "combined_fasta_path = r'D:\\PEPTIDE_PROJECT_OFF\\MyWork\\Crawl_data\\Final\\final2.fasta'\n",
    "with open(combined_fasta_path, 'w') as f:\n",
    "    f.write(combined_fasta)\n",
    "\n",
    "combined_fasta_path\n"
   ]
  }
 ],
 "metadata": {
  "kernelspec": {
   "display_name": "Python 3",
   "language": "python",
   "name": "python3"
  },
  "language_info": {
   "codemirror_mode": {
    "name": "ipython",
    "version": 3
   },
   "file_extension": ".py",
   "mimetype": "text/x-python",
   "name": "python",
   "nbconvert_exporter": "python",
   "pygments_lexer": "ipython3",
   "version": "3.12.7"
  }
 },
 "nbformat": 4,
 "nbformat_minor": 5
}
