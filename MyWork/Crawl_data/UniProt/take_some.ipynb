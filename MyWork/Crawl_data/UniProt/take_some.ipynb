{
 "cells": [
  {
   "cell_type": "code",
   "execution_count": 1,
   "id": "bda178cb",
   "metadata": {},
   "outputs": [
    {
     "data": {
      "text/plain": [
       "'data/nAMP_20k.fasta'"
      ]
     },
     "execution_count": 1,
     "metadata": {},
     "output_type": "execute_result"
    }
   ],
   "source": [
    "input_fasta_path = 'data/nAMP_clean.fasta'\n",
    "output_fasta_10000_peptides_path = 'data/nAMP_20k.fasta'\n",
    "\n",
    "with open(input_fasta_path, 'r') as f:\n",
    "    all_lines = [line.strip() for line in f if line.strip()]\n",
    "\n",
    "peptides = []\n",
    "for i in range(0, len(all_lines), 2):\n",
    "    if i+1 < len(all_lines):\n",
    "        peptides.append((all_lines[i], all_lines[i+1]))\n",
    "\n",
    "subset_peptides = peptides[:10000]\n",
    "\n",
    "with open(output_fasta_10000_peptides_path, 'w') as f:\n",
    "    for header, seq in subset_peptides:\n",
    "        f.write(f\"{header}\\n{seq}\\n\")\n",
    "\n",
    "output_fasta_10000_peptides_path\n"
   ]
  }
 ],
 "metadata": {
  "kernelspec": {
   "display_name": "Python 3",
   "language": "python",
   "name": "python3"
  },
  "language_info": {
   "codemirror_mode": {
    "name": "ipython",
    "version": 3
   },
   "file_extension": ".py",
   "mimetype": "text/x-python",
   "name": "python",
   "nbconvert_exporter": "python",
   "pygments_lexer": "ipython3",
   "version": "3.12.7"
  }
 },
 "nbformat": 4,
 "nbformat_minor": 5
}
