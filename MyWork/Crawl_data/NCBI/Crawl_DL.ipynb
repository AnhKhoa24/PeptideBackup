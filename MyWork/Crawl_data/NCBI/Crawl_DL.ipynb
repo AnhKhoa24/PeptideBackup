{
  "nbformat": 4,
  "nbformat_minor": 0,
  "metadata": {
    "colab": {
      "provenance": []
    },
    "kernelspec": {
      "name": "python3",
      "display_name": "Python 3"
    },
    "language_info": {
      "name": "python"
    }
  },
  "cells": [
    {
      "cell_type": "code",
      "source": [
        "!pip install Bio"
      ],
      "metadata": {
        "colab": {
          "base_uri": "https://localhost:8080/"
        },
        "id": "TPHbWNI5J9bk",
        "outputId": "53c7d489-bce0-4f78-f996-12a7cc5af4ff"
      },
      "execution_count": 1,
      "outputs": [
        {
          "output_type": "stream",
          "name": "stdout",
          "text": [
            "Collecting Bio\n",
            "  Downloading bio-1.7.1-py3-none-any.whl.metadata (5.7 kB)\n",
            "Collecting biopython>=1.80 (from Bio)\n",
            "  Downloading biopython-1.85-cp311-cp311-manylinux_2_17_x86_64.manylinux2014_x86_64.whl.metadata (13 kB)\n",
            "Collecting gprofiler-official (from Bio)\n",
            "  Downloading gprofiler_official-1.0.0-py3-none-any.whl.metadata (11 kB)\n",
            "Collecting mygene (from Bio)\n",
            "  Downloading mygene-3.2.2-py2.py3-none-any.whl.metadata (10 kB)\n",
            "Requirement already satisfied: pandas in /usr/local/lib/python3.11/dist-packages (from Bio) (2.2.2)\n",
            "Requirement already satisfied: pooch in /usr/local/lib/python3.11/dist-packages (from Bio) (1.8.2)\n",
            "Requirement already satisfied: requests in /usr/local/lib/python3.11/dist-packages (from Bio) (2.32.3)\n",
            "Requirement already satisfied: tqdm in /usr/local/lib/python3.11/dist-packages (from Bio) (4.67.1)\n",
            "Requirement already satisfied: numpy in /usr/local/lib/python3.11/dist-packages (from biopython>=1.80->Bio) (2.0.2)\n",
            "Collecting biothings-client>=0.2.6 (from mygene->Bio)\n",
            "  Downloading biothings_client-0.4.1-py3-none-any.whl.metadata (10 kB)\n",
            "Requirement already satisfied: python-dateutil>=2.8.2 in /usr/local/lib/python3.11/dist-packages (from pandas->Bio) (2.8.2)\n",
            "Requirement already satisfied: pytz>=2020.1 in /usr/local/lib/python3.11/dist-packages (from pandas->Bio) (2025.2)\n",
            "Requirement already satisfied: tzdata>=2022.7 in /usr/local/lib/python3.11/dist-packages (from pandas->Bio) (2025.2)\n",
            "Requirement already satisfied: platformdirs>=2.5.0 in /usr/local/lib/python3.11/dist-packages (from pooch->Bio) (4.3.7)\n",
            "Requirement already satisfied: packaging>=20.0 in /usr/local/lib/python3.11/dist-packages (from pooch->Bio) (24.2)\n",
            "Requirement already satisfied: charset-normalizer<4,>=2 in /usr/local/lib/python3.11/dist-packages (from requests->Bio) (3.4.1)\n",
            "Requirement already satisfied: idna<4,>=2.5 in /usr/local/lib/python3.11/dist-packages (from requests->Bio) (3.10)\n",
            "Requirement already satisfied: urllib3<3,>=1.21.1 in /usr/local/lib/python3.11/dist-packages (from requests->Bio) (2.3.0)\n",
            "Requirement already satisfied: certifi>=2017.4.17 in /usr/local/lib/python3.11/dist-packages (from requests->Bio) (2025.1.31)\n",
            "Requirement already satisfied: httpx>=0.22.0 in /usr/local/lib/python3.11/dist-packages (from biothings-client>=0.2.6->mygene->Bio) (0.28.1)\n",
            "Requirement already satisfied: six>=1.5 in /usr/local/lib/python3.11/dist-packages (from python-dateutil>=2.8.2->pandas->Bio) (1.17.0)\n",
            "Requirement already satisfied: anyio in /usr/local/lib/python3.11/dist-packages (from httpx>=0.22.0->biothings-client>=0.2.6->mygene->Bio) (4.9.0)\n",
            "Requirement already satisfied: httpcore==1.* in /usr/local/lib/python3.11/dist-packages (from httpx>=0.22.0->biothings-client>=0.2.6->mygene->Bio) (1.0.8)\n",
            "Requirement already satisfied: h11<0.15,>=0.13 in /usr/local/lib/python3.11/dist-packages (from httpcore==1.*->httpx>=0.22.0->biothings-client>=0.2.6->mygene->Bio) (0.14.0)\n",
            "Requirement already satisfied: sniffio>=1.1 in /usr/local/lib/python3.11/dist-packages (from anyio->httpx>=0.22.0->biothings-client>=0.2.6->mygene->Bio) (1.3.1)\n",
            "Requirement already satisfied: typing_extensions>=4.5 in /usr/local/lib/python3.11/dist-packages (from anyio->httpx>=0.22.0->biothings-client>=0.2.6->mygene->Bio) (4.13.2)\n",
            "Downloading bio-1.7.1-py3-none-any.whl (280 kB)\n",
            "\u001b[2K   \u001b[90m━━━━━━━━━━━━━━━━━━━━━━━━━━━━━━━━━━━━━━━━\u001b[0m \u001b[32m281.0/281.0 kB\u001b[0m \u001b[31m5.5 MB/s\u001b[0m eta \u001b[36m0:00:00\u001b[0m\n",
            "\u001b[?25hDownloading biopython-1.85-cp311-cp311-manylinux_2_17_x86_64.manylinux2014_x86_64.whl (3.3 MB)\n",
            "\u001b[2K   \u001b[90m━━━━━━━━━━━━━━━━━━━━━━━━━━━━━━━━━━━━━━━━\u001b[0m \u001b[32m3.3/3.3 MB\u001b[0m \u001b[31m29.1 MB/s\u001b[0m eta \u001b[36m0:00:00\u001b[0m\n",
            "\u001b[?25hDownloading gprofiler_official-1.0.0-py3-none-any.whl (9.3 kB)\n",
            "Downloading mygene-3.2.2-py2.py3-none-any.whl (5.4 kB)\n",
            "Downloading biothings_client-0.4.1-py3-none-any.whl (46 kB)\n",
            "\u001b[2K   \u001b[90m━━━━━━━━━━━━━━━━━━━━━━━━━━━━━━━━━━━━━━━━\u001b[0m \u001b[32m46.7/46.7 kB\u001b[0m \u001b[31m3.0 MB/s\u001b[0m eta \u001b[36m0:00:00\u001b[0m\n",
            "\u001b[?25hInstalling collected packages: biopython, gprofiler-official, biothings-client, mygene, Bio\n",
            "Successfully installed Bio-1.7.1 biopython-1.85 biothings-client-0.4.1 gprofiler-official-1.0.0 mygene-3.2.2\n"
          ]
        }
      ]
    },
    {
      "cell_type": "code",
      "source": [
        "from google.colab import drive\n",
        "drive.mount('/content/drive')"
      ],
      "metadata": {
        "colab": {
          "base_uri": "https://localhost:8080/"
        },
        "id": "IoRzyJntpfXC",
        "outputId": "7de725c4-c29d-4e97-a5a7-88aff4518a38"
      },
      "execution_count": 3,
      "outputs": [
        {
          "output_type": "stream",
          "name": "stdout",
          "text": [
            "Drive already mounted at /content/drive; to attempt to forcibly remount, call drive.mount(\"/content/drive\", force_remount=True).\n"
          ]
        }
      ]
    },
    {
      "cell_type": "code",
      "source": [
        "### Thử ghi file\n",
        "import time\n",
        "\n",
        "file_path = \"/content/drive/MyDrive/DataHuynhKom/test_write.txt\"\n",
        "\n",
        "with open(file_path, \"a\") as f:\n",
        "    for i in range(10):\n",
        "        f.write(f\"Row {i + 1}: {time.ctime()}\\n\")\n",
        "        f.flush()\n",
        "        print(f\"Line recorded {i + 1}\")\n",
        "        time.sleep(2)\n",
        "print(f\"The file has been written to {file_path}\")"
      ],
      "metadata": {
        "id": "VQlKtpVbUhX3"
      },
      "execution_count": null,
      "outputs": []
    },
    {
      "cell_type": "code",
      "execution_count": null,
      "metadata": {
        "colab": {
          "base_uri": "https://localhost:8080/"
        },
        "id": "YxO8ZxduJ4VX",
        "outputId": "411343e9-6d17-4716-a598-a3bb6db0b0bc"
      },
      "outputs": [
        {
          "output_type": "stream",
          "name": "stdout",
          "text": [
            "Looking for AMP...\n",
            "Looking for nAMP...\n"
          ]
        }
      ],
      "source": [
        "import time\n",
        "import random\n",
        "from Bio import Entrez, SeqIO\n",
        "\n",
        "Entrez.email = \"anhkhoa.24052003@gmail.com\"\n",
        "Entrez.api_key = \"f1a896e83b4b353cc94bd31a67dbc4931a08\"\n",
        "\n",
        "def fetch_sequences(amp_count=1000000, namp_count=1000000, output_file='/content/drive/MyDrive/DataHuynhKom/1_13AM_27_3_peptides.fasta'):\n",
        "    def robust_esearch(db, term, retmax):\n",
        "        attempts = 0\n",
        "        while attempts < 5:\n",
        "            try:\n",
        "                handle = Entrez.esearch(db=db, term=term, retmax=retmax)\n",
        "                record = Entrez.read(handle)\n",
        "                handle.close()\n",
        "                return record['IdList']\n",
        "            except Exception as e:\n",
        "                print(f\"Esearch error: {e}. Retry ({attempts + 1}/5)...\")\n",
        "                time.sleep(2 ** attempts + random.uniform(0, 1))\n",
        "                attempts += 1\n",
        "        return []\n",
        "\n",
        "    def robust_efetch(db, id_list, rettype, retmode):\n",
        "        attempts = 0\n",
        "        while attempts < 5:\n",
        "            try:\n",
        "                fetch_handle = Entrez.efetch(db=db, id=','.join(id_list), rettype=rettype, retmode=retmode)\n",
        "                return fetch_handle\n",
        "            except Exception as e:\n",
        "                print(f\"Efetch error: {e}. Retry ({attempts + 1}/5)...\")\n",
        "                time.sleep(2 ** attempts + random.uniform(0, 1))\n",
        "                attempts += 1\n",
        "        return None\n",
        "    print(\"Looking for AMP...\")\n",
        "    search_term_amp = \"antimicrobial peptide[Title] OR antimicrobial peptide[All Fields]\"\n",
        "    amp_ids = robust_esearch(db=\"protein\", term=search_term_amp, retmax=amp_count)\n",
        "    print(\"Looking for nAMP...\")\n",
        "    search_term_namp = \"peptide[Title] NOT (antimicrobial peptide[Title] OR antimicrobial peptide[All Fields])\"\n",
        "    namp_ids = robust_esearch(db=\"protein\", term=search_term_namp, retmax=namp_count)\n",
        "    all_ids = {'AMP': amp_ids, 'nAMP': namp_ids}\n",
        "    sequences = []\n",
        "    with open(output_file, 'w') as fasta_file:\n",
        "        for label, id_list in all_ids.items():\n",
        "            print(f\"\\nLoading {label} ({len(id_list)} peptides)...\")\n",
        "            for i in range(0, len(id_list), 200):\n",
        "                batch_ids = id_list[i:i + 200]\n",
        "                fetch_handle = robust_efetch(db=\"protein\", id_list=batch_ids, rettype=\"fasta\", retmode=\"text\")\n",
        "                if fetch_handle:\n",
        "                    for record in SeqIO.parse(fetch_handle, \"fasta\"):\n",
        "                        seq_length = len(record.seq)\n",
        "                        if 10 <= seq_length <= 50:\n",
        "                            fasta_entry = f\">{record.id} {label}\\n{record.seq}\"\n",
        "                            fasta_file.write(fasta_entry + \"\\n\")\n",
        "                            sequences.append(fasta_entry)\n",
        "                    fetch_handle.close()\n",
        "                time.sleep(0.2)\n",
        "\n",
        "    print(f\"\\nTook {len(sequences)} valid peptides (AMP: {len(amp_ids)}, nAMP: {len(namp_ids)}).\")\n",
        "    print(f\"Data saved in {output_file}\")\n",
        "fetch_sequences()"
      ]
    }
  ]
}