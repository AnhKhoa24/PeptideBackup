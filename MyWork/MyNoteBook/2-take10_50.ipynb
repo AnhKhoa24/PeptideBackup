{
 "cells": [
  {
   "cell_type": "code",
   "execution_count": 1,
   "id": "6d7b6b18",
   "metadata": {},
   "outputs": [],
   "source": [
    "def parse_fasta(fasta_path):\n",
    "    entries = []\n",
    "    header = None\n",
    "    seq_lines = []\n",
    "    with open(fasta_path, \"r\") as f:\n",
    "        for line in f:\n",
    "            line = line.strip()\n",
    "            if not line:\n",
    "                continue\n",
    "            if line.startswith('>'):\n",
    "                if header and seq_lines:\n",
    "                    entries.append((header, ''.join(seq_lines)))\n",
    "                header = line[1:]\n",
    "                seq_lines = []\n",
    "            else:\n",
    "                seq_lines.append(line)\n",
    "        if header and seq_lines:\n",
    "            entries.append((header, ''.join(seq_lines)))\n",
    "    return entries\n",
    "\n",
    "def filter_peptides(peptides, min_length=10):\n",
    "    \"\"\"Chỉ giữ các peptide có độ dài >= min_length\"\"\"\n",
    "    return [(header, seq) for header, seq in peptides if len(seq) >= min_length]\n",
    "\n",
    "def save_fasta(peptides, output_path):\n",
    "    with open(output_path, \"w\") as f:\n",
    "        for header, seq in peptides:\n",
    "            f.write(f\">{header}\\n\")\n",
    "            f.write(f\"{seq}\\n\")\n",
    "\n",
    "\n"
   ]
  },
  {
   "cell_type": "code",
   "execution_count": 2,
   "id": "67b5d3f3",
   "metadata": {},
   "outputs": [
    {
     "name": "stdout",
     "output_type": "stream",
     "text": [
      "✅ Done! Saved filtered peptides to AMP_big.fasta\n"
     ]
    }
   ],
   "source": [
    "\n",
    "input_fasta = \"output_fragments.fasta\"        # File fasta đầu vào\n",
    "output_fasta = \"AMP_big.fasta\"  # File fasta sau lọc\n",
    "\n",
    "peptides = parse_fasta(input_fasta)\n",
    "filtered_peptides = filter_peptides(peptides, min_length=10)\n",
    "save_fasta(filtered_peptides, output_fasta)\n",
    "\n",
    "print(f\"✅ Done! Saved filtered peptides to {output_fasta}\")"
   ]
  }
 ],
 "metadata": {
  "kernelspec": {
   "display_name": "Python 3",
   "language": "python",
   "name": "python3"
  },
  "language_info": {
   "codemirror_mode": {
    "name": "ipython",
    "version": 3
   },
   "file_extension": ".py",
   "mimetype": "text/x-python",
   "name": "python",
   "nbconvert_exporter": "python",
   "pygments_lexer": "ipython3",
   "version": "3.12.7"
  }
 },
 "nbformat": 4,
 "nbformat_minor": 5
}
