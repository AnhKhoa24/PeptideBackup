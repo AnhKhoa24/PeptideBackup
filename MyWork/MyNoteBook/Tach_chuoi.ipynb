{
 "cells": [
  {
   "cell_type": "code",
   "execution_count": 1,
   "id": "b1b5cbd0",
   "metadata": {},
   "outputs": [],
   "source": [
    "import re\n",
    "\n",
    "def classify_residue(residue):\n",
    "    polar = set('RKEDQNHSTY')\n",
    "    nonpolar = set('GAVLIMFWP')\n",
    "    \n",
    "    if residue in polar:\n",
    "        return 'P'  # Polar\n",
    "    elif residue in nonpolar:\n",
    "        return 'N'  # Non-polar\n",
    "    else:\n",
    "        return 'P'  # Mặc định coi không xác định là polar (an toàn hơn)\n",
    "\n",
    "def find_polar_switch(seq):\n",
    "    \"\"\"Tìm vị trí đổi tính chất phân cực (polar/nonpolar)\"\"\"\n",
    "    profile = [classify_residue(aa) for aa in seq]\n",
    "    switch_points = []\n",
    "    for i in range(1, len(profile)):\n",
    "        if profile[i] != profile[i-1]:\n",
    "            switch_points.append(i)\n",
    "    return switch_points\n",
    "\n",
    "def split_peptide(seq, min_len=10, max_len=50):\n",
    "    if len(seq) <= max_len:\n",
    "        return [seq]\n",
    "\n",
    "    switch_points = find_polar_switch(seq)\n",
    "    fragments = []\n",
    "    last_cut = 0\n",
    "\n",
    "    for p in switch_points:\n",
    "        # Nếu đoạn từ last_cut đến p >= min_len\n",
    "        if (p - last_cut) >= min_len:\n",
    "            frag = seq[last_cut:p]\n",
    "            if len(frag) <= max_len:\n",
    "                fragments.append(frag)\n",
    "                last_cut = p\n",
    "\n",
    "    # Xử lý đoạn còn lại\n",
    "    if (len(seq) - last_cut) >= min_len:\n",
    "        frag = seq[last_cut:]\n",
    "        if len(frag) <= max_len:\n",
    "            fragments.append(frag)\n",
    "        else:\n",
    "            # Nếu đoạn cuối vẫn > max_len, cắt đều\n",
    "            for i in range(last_cut, len(seq), max_len):\n",
    "                frag = seq[i:i+max_len]\n",
    "                if len(frag) >= min_len:\n",
    "                    fragments.append(frag)\n",
    "    return fragments\n",
    "\n",
    "def process_peptides(peptide_list, min_len=20, max_len=30):\n",
    "    all_fragments = {}\n",
    "    for idx, seq in enumerate(peptide_list):\n",
    "        fragments = split_peptide(seq, min_len, max_len)\n",
    "        all_fragments[f\"Peptide_{idx+1}\"] = fragments\n",
    "    return all_fragments\n"
   ]
  },
  {
   "cell_type": "code",
   "execution_count": 2,
   "id": "8dfc5bc8",
   "metadata": {},
   "outputs": [],
   "source": [
    "peptides = [\n",
    "        \"MKKKKYLIDLFSGCGGLSFGFEQAGFECLIGVDIEQSALNTFAHNHKHAKALNLDLSEDESISKIIEEIGNKNIEIIVAGPPCQ\",\n",
    "        \"MLNTIELFAGCGGLLDGFKQTNKYNLLAAVEWQKAQVNTLIERLKSKYNTKDANEKVFYFDIQRTDELIYGWKDDEIYSSSKGIDHQIAGQNVDVITGGPPCQ\"\n",
    "    ]\n",
    "\n",
    "results = process_peptides(peptides)"
   ]
  },
  {
   "cell_type": "code",
   "execution_count": null,
   "id": "0e2aed4b",
   "metadata": {},
   "outputs": [
    {
     "name": "stdout",
     "output_type": "stream",
     "text": [
      "== Peptide_1 ==\n",
      "Fragment 1: MKKKKYLIDLFSGCGGLSFGF (Length: 21)\n",
      "Fragment 2: EQAGFECLIGVDIEQSALNT (Length: 20)\n",
      "Fragment 3: FAHNHKHAKALNLDLSEDES (Length: 20)\n",
      "Fragment 4: ISKIIEEIGNKNIEIIVAGPP (Length: 21)\n",
      "----------------------------------------\n",
      "== Peptide_2 ==\n",
      "Fragment 1: MLNTIELFAGCGGLLDGFKQTNKYN (Length: 25)\n",
      "Fragment 2: LLAAVEWQKAQVNTLIERLKSKYNTKD (Length: 27)\n",
      "Fragment 3: ANEKVFYFDIQRTDELIYGW (Length: 20)\n",
      "Fragment 4: KDDEIYSSSKGIDHQIAGQN (Length: 20)\n",
      "----------------------------------------\n"
     ]
    }
   ],
   "source": [
    "for pep_id, frags in results.items():\n",
    "    print(f\"== {pep_id} ==\")\n",
    "    for i, frag in enumerate(frags, 1):\n",
    "        print(f\"Fragment {i}: {frag} (Length: {len(frag)})\")\n",
    "    print(\"-\"*40)"
   ]
  }
 ],
 "metadata": {
  "kernelspec": {
   "display_name": "Python 3",
   "language": "python",
   "name": "python3"
  },
  "language_info": {
   "codemirror_mode": {
    "name": "ipython",
    "version": 3
   },
   "file_extension": ".py",
   "mimetype": "text/x-python",
   "name": "python",
   "nbconvert_exporter": "python",
   "pygments_lexer": "ipython3",
   "version": "3.12.7"
  }
 },
 "nbformat": 4,
 "nbformat_minor": 5
}
