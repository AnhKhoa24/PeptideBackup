{
 "cells": [
  {
   "cell_type": "code",
   "execution_count": 1,
   "id": "d19fe90b",
   "metadata": {},
   "outputs": [],
   "source": [
    "input_path = \"AMP_full_90.fasta\"\n",
    "output_path = \"AMP_labeled.fasta\"\n",
    "\n",
    "with open(input_path, \"r\") as infile, open(output_path, \"w\") as outfile:\n",
    "    for line in infile:\n",
    "        if line.startswith(\">\"):\n",
    "            outfile.write(line.strip() + \" AMP\\n\") \n",
    "        else:\n",
    "            outfile.write(line)  "
   ]
  },
  {
   "cell_type": "code",
   "execution_count": 1,
   "id": "82393d06",
   "metadata": {},
   "outputs": [],
   "source": [
    "input_path = \"nAMP_full_110k.fasta\"\n",
    "output_path = \"nAMP_labeled.fasta\"\n",
    "\n",
    "with open(input_path, \"r\") as infile, open(output_path, \"w\") as outfile:\n",
    "    for line in infile:\n",
    "        if line.startswith(\">\"):\n",
    "            outfile.write(line.strip() + \" nAMP\\n\") \n",
    "        else:\n",
    "            outfile.write(line)  "
   ]
  },
  {
   "cell_type": "code",
   "execution_count": 2,
   "id": "83f72944",
   "metadata": {},
   "outputs": [],
   "source": [
    "def merge_fasta_files(file1, file2, output_file):\n",
    "    with open(output_file, 'w') as out:\n",
    "        for path in [file1, file2]:\n",
    "            with open(path, 'r') as infile:\n",
    "                for line in infile:\n",
    "                    out.write(line)\n",
    "merge_fasta_files(\n",
    "    \"AMP_labeled.fasta\",\n",
    "    \"nAMP_labeled.fasta\",\n",
    "    \"DataSet_final.fasta\"\n",
    ")"
   ]
  }
 ],
 "metadata": {
  "kernelspec": {
   "display_name": "Python 3",
   "language": "python",
   "name": "python3"
  },
  "language_info": {
   "codemirror_mode": {
    "name": "ipython",
    "version": 3
   },
   "file_extension": ".py",
   "mimetype": "text/x-python",
   "name": "python",
   "nbconvert_exporter": "python",
   "pygments_lexer": "ipython3",
   "version": "3.12.7"
  }
 },
 "nbformat": 4,
 "nbformat_minor": 5
}
