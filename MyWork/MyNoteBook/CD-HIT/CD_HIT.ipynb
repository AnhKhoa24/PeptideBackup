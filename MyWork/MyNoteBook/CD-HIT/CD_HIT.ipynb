{
  "nbformat": 4,
  "nbformat_minor": 0,
  "metadata": {
    "colab": {
      "provenance": []
    },
    "kernelspec": {
      "name": "python3",
      "display_name": "Python 3"
    },
    "language_info": {
      "name": "python"
    }
  },
  "cells": [
    {
      "cell_type": "code",
      "execution_count": 1,
      "metadata": {
        "colab": {
          "base_uri": "https://localhost:8080/"
        },
        "id": "KvVn-TPCHKJa",
        "outputId": "4395c767-af88-40f7-8743-742cfee03a15"
      },
      "outputs": [
        {
          "output_type": "stream",
          "name": "stdout",
          "text": [
            "Reading package lists... Done\n",
            "Building dependency tree... Done\n",
            "Reading state information... Done\n",
            "The following NEW packages will be installed:\n",
            "  cd-hit\n",
            "0 upgraded, 1 newly installed, 0 to remove and 34 not upgraded.\n",
            "Need to get 521 kB of archives.\n",
            "After this operation, 1,082 kB of additional disk space will be used.\n",
            "Get:1 http://archive.ubuntu.com/ubuntu jammy/universe amd64 cd-hit amd64 4.8.1-4 [521 kB]\n",
            "Fetched 521 kB in 2s (228 kB/s)\n",
            "Selecting previously unselected package cd-hit.\n",
            "(Reading database ... 126101 files and directories currently installed.)\n",
            "Preparing to unpack .../cd-hit_4.8.1-4_amd64.deb ...\n",
            "Unpacking cd-hit (4.8.1-4) ...\n",
            "Setting up cd-hit (4.8.1-4) ...\n",
            "Processing triggers for man-db (2.10.2-1) ...\n"
          ]
        }
      ],
      "source": [
        "!apt-get install cd-hit -y"
      ]
    },
    {
      "cell_type": "code",
      "source": [
        "!cd-hit --version"
      ],
      "metadata": {
        "colab": {
          "base_uri": "https://localhost:8080/"
        },
        "id": "-vhWAvdoHSqU",
        "outputId": "65d0e887-57ba-4734-aa77-13684256d7ba"
      },
      "execution_count": 2,
      "outputs": [
        {
          "output_type": "stream",
          "name": "stdout",
          "text": [
            "\t\t====== CD-HIT version 4.8.1 (built on Aug 20 2021) ======\n",
            "\n",
            "Usage: cd-hit [Options] \n",
            "\n",
            "Options\n",
            "\n",
            "   -i\tinput filename in fasta format, required, can be in .gz format\n",
            "   -o\toutput filename, required\n",
            "   -c\tsequence identity threshold, default 0.9\n",
            " \tthis is the default cd-hit's \"global sequence identity\" calculated as:\n",
            " \tnumber of identical amino acids or bases in alignment\n",
            " \tdivided by the full length of the shorter sequence\n",
            "   -G\tuse global sequence identity, default 1\n",
            " \tif set to 0, then use local sequence identity, calculated as :\n",
            " \tnumber of identical amino acids or bases in alignment\n",
            " \tdivided by the length of the alignment\n",
            " \tNOTE!!! don't use -G 0 unless you use alignment coverage controls\n",
            " \tsee options -aL, -AL, -aS, -AS\n",
            "   -b\tband_width of alignment, default 20\n",
            "   -M\tmemory limit (in MB) for the program, default 800; 0 for unlimitted;\n",
            "   -T\tnumber of threads, default 1; with 0, all CPUs will be used\n",
            "   -n\tword_length, default 5, see user's guide for choosing it\n",
            "   -l\tlength of throw_away_sequences, default 10\n",
            "   -t\ttolerance for redundance, default 2\n",
            "   -d\tlength of description in .clstr file, default 20\n",
            " \tif set to 0, it takes the fasta defline and stops at first space\n",
            "   -s\tlength difference cutoff, default 0.0\n",
            " \tif set to 0.9, the shorter sequences need to be\n",
            " \tat least 90% length of the representative of the cluster\n",
            "   -S\tlength difference cutoff in amino acid, default 999999\n",
            " \tif set to 60, the length difference between the shorter sequences\n",
            " \tand the representative of the cluster can not be bigger than 60\n",
            "   -aL\talignment coverage for the longer sequence, default 0.0\n",
            " \tif set to 0.9, the alignment must covers 90% of the sequence\n",
            "   -AL\talignment coverage control for the longer sequence, default 99999999\n",
            " \tif set to 60, and the length of the sequence is 400,\n",
            " \tthen the alignment must be >= 340 (400-60) residues\n",
            "   -aS\talignment coverage for the shorter sequence, default 0.0\n",
            " \tif set to 0.9, the alignment must covers 90% of the sequence\n",
            "   -AS\talignment coverage control for the shorter sequence, default 99999999\n",
            " \tif set to 60, and the length of the sequence is 400,\n",
            " \tthen the alignment must be >= 340 (400-60) residues\n",
            "   -A\tminimal alignment coverage control for the both sequences, default 0\n",
            " \talignment must cover >= this value for both sequences \n",
            "   -uL\tmaximum unmatched percentage for the longer sequence, default 1.0\n",
            " \tif set to 0.1, the unmatched region (excluding leading and tailing gaps)\n",
            " \tmust not be more than 10% of the sequence\n",
            "   -uS\tmaximum unmatched percentage for the shorter sequence, default 1.0\n",
            " \tif set to 0.1, the unmatched region (excluding leading and tailing gaps)\n",
            " \tmust not be more than 10% of the sequence\n",
            "   -U\tmaximum unmatched length, default 99999999\n",
            " \tif set to 10, the unmatched region (excluding leading and tailing gaps)\n",
            " \tmust not be more than 10 bases\n",
            "   -B\t1 or 0, default 0, by default, sequences are stored in RAM\n",
            " \tif set to 1, sequence are stored on hard drive\n",
            " \t!! No longer supported !!\n",
            "   -p\t1 or 0, default 0\n",
            " \tif set to 1, print alignment overlap in .clstr file\n",
            "   -g\t1 or 0, default 0\n",
            " \tby cd-hit's default algorithm, a sequence is clustered to the first \n",
            " \tcluster that meet the threshold (fast cluster). If set to 1, the program\n",
            " \twill cluster it into the most similar cluster that meet the threshold\n",
            " \t(accurate but slow mode)\n",
            " \tbut either 1 or 0 won't change the representatives of final clusters\n",
            "   -sc\tsort clusters by size (number of sequences), default 0, output clusters by decreasing length\n",
            " \tif set to 1, output clusters by decreasing size\n",
            "   -sf\tsort fasta/fastq by cluster size (number of sequences), default 0, no sorting\n",
            " \tif set to 1, output sequences by decreasing cluster size\n",
            " \tthis can be very slow if the input is in .gz format\n",
            "   -bak\twrite backup cluster file (1 or 0, default 0)\n",
            "   -h\tprint this help\n",
            "\n",
            "   Questions, bugs, contact Weizhong Li at liwz@sdsc.edu\n",
            "   For updated versions and information, please visit: http://cd-hit.org\n",
            "                                                    or https://github.com/weizhongli/cdhit\n",
            "\n",
            "   cd-hit web server is also available from http://cd-hit.org\n",
            "\n",
            "   If you find cd-hit useful, please kindly cite:\n",
            "\n",
            "   \"CD-HIT: a fast program for clustering and comparing large sets of protein or nucleotide sequences\", Weizhong Li & Adam Godzik. Bioinformatics, (2006) 22:1658-1659\n",
            "   \"CD-HIT: accelerated for clustering the next generation sequencing data\", Limin Fu, Beifang Niu, Zhengwei Zhu, Sitao Wu & Weizhong Li. Bioinformatics, (2012) 28:3150-3152\n",
            "\n",
            "\n"
          ]
        }
      ]
    },
    {
      "cell_type": "code",
      "source": [
        "!cd-hit -i /content/AMP_full.fasta -o /content/AMP_full_90.fasta -c 0.9 -n 5"
      ],
      "metadata": {
        "colab": {
          "base_uri": "https://localhost:8080/"
        },
        "id": "l5Cua6nRHTNU",
        "outputId": "d3a4fc7e-39a2-4988-bb27-ea3691b96a30"
      },
      "execution_count": 3,
      "outputs": [
        {
          "output_type": "stream",
          "name": "stdout",
          "text": [
            "================================================================\n",
            "Program: CD-HIT, V4.8.1 (+OpenMP), Aug 20 2021, 08:39:56\n",
            "Command: cd-hit -i /content/AMP_full.fasta -o\n",
            "         /content/AMP_full_90.fasta -c 0.9 -n 5\n",
            "\n",
            "Started: Thu May  1 14:03:38 2025\n",
            "================================================================\n",
            "                            Output                              \n",
            "----------------------------------------------------------------\n",
            "total seq: 60542\n",
            "longest and shortest : 121 and 11\n",
            "Total letters: 1346452\n",
            "Sequences have been sorted\n",
            "\n",
            "Approximated minimal memory consumption:\n",
            "Sequence        : 8M\n",
            "Buffer          : 1 X 11M = 11M\n",
            "Table           : 1 X 66M = 66M\n",
            "Miscellaneous   : 0M\n",
            "Total           : 87M\n",
            "\n",
            "Table limit with the given memory limit:\n",
            "Max number of representatives: 4000000\n",
            "Max number of word counting entries: 89098092\n",
            "\n",
            "\rcomparing sequences from          0  to      60542\n",
            "..........\r..........    10000  finished       8624  clusters\n",
            "..........    20000  finished      18470  clusters\n",
            "..........    30000  finished      28405  clusters\n",
            "..........    40000  finished      37816  clusters\n",
            "..........    50000  finished      47702  clusters\n",
            "..........    60000  finished      57441  clusters\n",
            "\n",
            "    60542  finished      57796  clusters\n",
            "\n",
            "Approximated maximum memory consumption: 95M\n",
            "writing new database\n",
            "writing clustering information\n",
            "program completed !\n",
            "\n",
            "Total CPU time 0.72\n"
          ]
        }
      ]
    },
    {
      "cell_type": "code",
      "source": [
        "!cd-hit -i /content/nAMP_full.fasta -o /content/nAMP_full_90.fasta -c 0.9 -n 5"
      ],
      "metadata": {
        "colab": {
          "base_uri": "https://localhost:8080/"
        },
        "id": "7Pp6pA37KyhF",
        "outputId": "8f901251-73d0-4c0e-f560-6e16139fa0e0"
      },
      "execution_count": 4,
      "outputs": [
        {
          "output_type": "stream",
          "name": "stdout",
          "text": [
            "================================================================\n",
            "Program: CD-HIT, V4.8.1 (+OpenMP), Aug 20 2021, 08:39:56\n",
            "Command: cd-hit -i /content/nAMP_full.fasta -o\n",
            "         /content/nAMP_full_90.fasta -c 0.9 -n 5\n",
            "\n",
            "Started: Thu May  1 14:06:07 2025\n",
            "================================================================\n",
            "                            Output                              \n",
            "----------------------------------------------------------------\n",
            "total seq: 60798\n",
            "longest and shortest : 50 and 11\n",
            "Total letters: 2391173\n",
            "Sequences have been sorted\n",
            "\n",
            "Approximated minimal memory consumption:\n",
            "Sequence        : 10M\n",
            "Buffer          : 1 X 11M = 11M\n",
            "Table           : 1 X 66M = 66M\n",
            "Miscellaneous   : 0M\n",
            "Total           : 88M\n",
            "\n",
            "Table limit with the given memory limit:\n",
            "Max number of representatives: 4000000\n",
            "Max number of word counting entries: 88908581\n",
            "\n",
            "comparing sequences from          0  to      60798\n",
            "..........    10000  finished       4698  clusters\n",
            "..........    20000  finished       9829  clusters\n",
            "..........    30000  finished      14266  clusters\n",
            "..........    40000  finished      17375  clusters\n",
            "..........    50000  finished      20470  clusters\n",
            "..........    60000  finished      24693  clusters\n",
            "\n",
            "    60798  finished      25248  clusters\n",
            "\n",
            "Approximated maximum memory consumption: 95M\n",
            "writing new database\n",
            "writing clustering information\n",
            "program completed !\n",
            "\n",
            "Total CPU time 1.59\n"
          ]
        }
      ]
    }
  ]
}