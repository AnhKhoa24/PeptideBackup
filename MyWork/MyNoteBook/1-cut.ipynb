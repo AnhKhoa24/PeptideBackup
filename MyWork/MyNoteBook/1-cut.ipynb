{
 "cells": [
  {
   "cell_type": "code",
   "execution_count": 1,
   "id": "b7f5bf95",
   "metadata": {},
   "outputs": [],
   "source": [
    "import re"
   ]
  },
  {
   "cell_type": "code",
   "execution_count": null,
   "id": "9b8131ad",
   "metadata": {},
   "outputs": [],
   "source": [
    "def classify_residue(residue):\n",
    "    polar = set('RKEDQNHSTY')\n",
    "    nonpolar = set('GAVLIMFWP')\n",
    "\n",
    "    if residue in polar:\n",
    "        return 'P'  # Polar\n",
    "    elif residue in nonpolar:\n",
    "        return 'N'  # Non-polar\n",
    "    else:\n",
    "        return 'P'  # Mặc định: coi không xác định là polar cho an toàn\n",
    "\n",
    "def find_polar_switch(seq):\n",
    "    profile = [classify_residue(aa) for aa in seq]\n",
    "    switch_points = []\n",
    "    for i in range(1, len(profile)):\n",
    "        if profile[i] != profile[i-1]:\n",
    "            switch_points.append(i)\n",
    "    return switch_points"
   ]
  },
  {
   "cell_type": "code",
   "execution_count": null,
   "id": "eac92e60",
   "metadata": {},
   "outputs": [],
   "source": [
    "def split_peptide(seq, min_len=10, max_len=50):\n",
    "    if len(seq) <= max_len:\n",
    "        return [seq]\n",
    "\n",
    "    switch_points = find_polar_switch(seq)\n",
    "    fragments = []\n",
    "    last_cut = 0\n",
    "\n",
    "    for p in switch_points:\n",
    "        if (p - last_cut) >= min_len:\n",
    "            frag = seq[last_cut:p]\n",
    "            if len(frag) <= max_len:\n",
    "                fragments.append(frag)\n",
    "                last_cut = p\n",
    "\n",
    "    if (len(seq) - last_cut) >= min_len:\n",
    "        frag = seq[last_cut:]\n",
    "        if len(frag) <= max_len:\n",
    "            fragments.append(frag)\n",
    "        else:\n",
    "            for i in range(last_cut, len(seq), max_len):\n",
    "                frag = seq[i:i+max_len]\n",
    "                if len(frag) >= min_len:\n",
    "                    fragments.append(frag)\n",
    "    return fragments\n",
    "\n",
    "def parse_fasta(fasta_str):\n",
    "    entries = []\n",
    "    header = None\n",
    "    seq_lines = []\n",
    "    for line in fasta_str.strip().splitlines():\n",
    "        line = line.strip()\n",
    "        if line.startswith('>'):\n",
    "            if header:\n",
    "                entries.append((header, ''.join(seq_lines)))\n",
    "            header = line[1:]\n",
    "            seq_lines = []\n",
    "        else:\n",
    "            seq_lines.append(line)\n",
    "    if header:\n",
    "        entries.append((header, ''.join(seq_lines)))\n",
    "    return entries\n",
    "\n",
    "def load_fasta_file(file_path):\n",
    "    with open(file_path, 'r') as f:\n",
    "        return f.read()\n",
    "\n",
    "def process_peptides(peptide_list, min_len=20, max_len=30):\n",
    "    all_fragments = {}\n",
    "    for header, seq in peptide_list:\n",
    "        fragments = split_peptide(seq, min_len, max_len)\n",
    "        all_fragments[header] = fragments\n",
    "    return all_fragments\n",
    "\n",
    "def save_fasta(results, output_path=\"output_fragments.fasta\"):\n",
    "    with open(output_path, \"w\") as f:\n",
    "        for header, frags in results.items():\n",
    "            for frag in frags:\n",
    "                f.write(f\">{header}\\n\")\n",
    "                f.write(f\"{frag}\\n\")"
   ]
  },
  {
   "cell_type": "code",
   "execution_count": 4,
   "id": "df10438c",
   "metadata": {},
   "outputs": [
    {
     "name": "stdout",
     "output_type": "stream",
     "text": [
      "Fragments have been saved to output_fragments.fasta\n"
     ]
    }
   ],
   "source": [
    "\n",
    "input_path = r\"C:\\Users\\anhkh\\Downloads\\amp_genbank (1).fasta\"   \n",
    "fasta_data = load_fasta_file(input_path)\n",
    "\n",
    "peptides = parse_fasta(fasta_data)\n",
    "results = process_peptides(peptides)\n",
    "\n",
    "save_fasta(results, output_path=\"output_fragments_284.fasta\")\n",
    "print(\"Fragments have been saved\")"
   ]
  }
 ],
 "metadata": {
  "kernelspec": {
   "display_name": "Python 3",
   "language": "python",
   "name": "python3"
  },
  "language_info": {
   "codemirror_mode": {
    "name": "ipython",
    "version": 3
   },
   "file_extension": ".py",
   "mimetype": "text/x-python",
   "name": "python",
   "nbconvert_exporter": "python",
   "pygments_lexer": "ipython3",
   "version": "3.12.7"
  }
 },
 "nbformat": 4,
 "nbformat_minor": 5
}
