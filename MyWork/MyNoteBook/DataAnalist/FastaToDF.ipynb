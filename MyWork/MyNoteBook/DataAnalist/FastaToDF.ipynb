{
 "cells": [
  {
   "cell_type": "code",
   "execution_count": 1,
   "id": "b9f07dbb",
   "metadata": {},
   "outputs": [],
   "source": [
    "import pandas as pd\n",
    "from Bio import SeqIO"
   ]
  },
  {
   "cell_type": "markdown",
   "id": "68df570f",
   "metadata": {},
   "source": [
    "### Lọc lớp AMP, nAMP"
   ]
  },
  {
   "cell_type": "code",
   "execution_count": 8,
   "id": "f9f5cb57",
   "metadata": {},
   "outputs": [],
   "source": [
    "def filter_amp_fasta(input_path, output_path):\n",
    "    with open(input_path, 'r') as infile, open(output_path, 'w') as outfile:\n",
    "        write_seq = False\n",
    "        for line in infile:\n",
    "            line = line.strip()\n",
    "            if line.startswith('>'):\n",
    "                if line.endswith(' nAMP'):\n",
    "                    write_seq = True\n",
    "                    header = line.split()[0] \n",
    "                    outfile.write(f\"{header}\\n\")\n",
    "                else:\n",
    "                    write_seq = False\n",
    "            else:\n",
    "                if write_seq:\n",
    "                    outfile.write(f\"{line}\\n\")\n"
   ]
  },
  {
   "cell_type": "code",
   "execution_count": 9,
   "id": "754a8656",
   "metadata": {},
   "outputs": [],
   "source": [
    "filter_amp_fasta(r'D:\\PEPTIDE_PROJECT_OFF\\MyWork\\MyNoteBook\\DataAnalist\\data\\nAMP_UniProt.fasta', 'data/nAMP_UniProt_500k.fasta')"
   ]
  },
  {
   "cell_type": "markdown",
   "id": "6bb69b9c",
   "metadata": {},
   "source": [
    "### Lấy mẫu từ file fasta lớn"
   ]
  },
  {
   "cell_type": "code",
   "execution_count": 13,
   "id": "4479bc3f",
   "metadata": {},
   "outputs": [],
   "source": [
    "def extract_first_n_seqs(input_path, output_path, n):\n",
    "    with open(output_path, \"w\") as out_file:\n",
    "        count = 0\n",
    "        for record in SeqIO.parse(input_path, \"fasta\"):\n",
    "            if count >= n:\n",
    "                break\n",
    "            SeqIO.write(record, out_file, \"fasta\")\n",
    "            count += 1"
   ]
  },
  {
   "cell_type": "code",
   "execution_count": 14,
   "id": "063c59a9",
   "metadata": {},
   "outputs": [],
   "source": [
    "extract_first_n_seqs(\n",
    "    r\"D:\\PEPTIDE_PROJECT_OFF\\MyWork\\MyNoteBook\\CD-HIT\\nAMP_full_90.fasta\",\n",
    "    r\"D:\\PEPTIDE_PROJECT_OFF\\MyWork\\MyNoteBook\\CD-HIT\\nAMP_full_110k.fasta\",\n",
    "    110000\n",
    ")"
   ]
  },
  {
   "cell_type": "markdown",
   "id": "9cae9ff5",
   "metadata": {},
   "source": [
    "### Ghép 2 file"
   ]
  },
  {
   "cell_type": "code",
   "execution_count": 11,
   "id": "6d040e8e",
   "metadata": {},
   "outputs": [],
   "source": [
    "def merge_fasta_files(file1, file2, output_file):\n",
    "    with open(output_file, 'w') as out:\n",
    "        for path in [file1, file2]:\n",
    "            with open(path, 'r') as infile:\n",
    "                for line in infile:\n",
    "                    out.write(line)\n"
   ]
  },
  {
   "cell_type": "code",
   "execution_count": 12,
   "id": "fbf98c14",
   "metadata": {},
   "outputs": [],
   "source": [
    "merge_fasta_files(\n",
    "    \"data/nAMP_UniProt_500k.fasta\",\n",
    "    \"data/nAMP_NCBI.fasta\",\n",
    "    \"data/nAMP_full.fasta\"\n",
    ")"
   ]
  }
 ],
 "metadata": {
  "kernelspec": {
   "display_name": "Python 3",
   "language": "python",
   "name": "python3"
  },
  "language_info": {
   "codemirror_mode": {
    "name": "ipython",
    "version": 3
   },
   "file_extension": ".py",
   "mimetype": "text/x-python",
   "name": "python",
   "nbconvert_exporter": "python",
   "pygments_lexer": "ipython3",
   "version": "3.12.7"
  }
 },
 "nbformat": 4,
 "nbformat_minor": 5
}
